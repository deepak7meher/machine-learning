{
 "cells": [
  {
   "cell_type": "markdown",
   "metadata": {},
   "source": [
    "# 1 sample test"
   ]
  },
  {
   "cell_type": "markdown",
   "metadata": {},
   "source": [
    "## Testing means with unknown variance"
   ]
  },
  {
   "cell_type": "code",
   "execution_count": 1,
   "metadata": {},
   "outputs": [],
   "source": [
    "from scipy import stats\n",
    "import numpy as np"
   ]
  },
  {
   "cell_type": "markdown",
   "metadata": {},
   "source": [
    "### H0: μ = 10 <br>  Ha: μ $\\neq$ 10 "
   ]
  },
  {
   "cell_type": "code",
   "execution_count": 2,
   "metadata": {},
   "outputs": [],
   "source": [
    "# Sample of 10 containers\n",
    "sample = [10.2, 9.7, 10.1, 10.3, 10.1, 9.8, 9.9, 10.4, 10.3, 9.8]"
   ]
  },
  {
   "cell_type": "code",
   "execution_count": 3,
   "metadata": {},
   "outputs": [],
   "source": [
    "hypothesized_mean = 10"
   ]
  },
  {
   "cell_type": "markdown",
   "metadata": {},
   "source": [
    "https://docs.scipy.org/doc/scipy/reference/generated/scipy.stats.ttest_1samp.html"
   ]
  },
  {
   "cell_type": "code",
   "execution_count": 4,
   "metadata": {},
   "outputs": [],
   "source": [
    "# Using the ttest_1samp function to test the sample mean \n",
    "# Note that by default, the funtion returns the p-value for a 2 tailed test\n",
    "t_statistic, p_value = stats.ttest_1samp(sample, hypothesized_mean)"
   ]
  },
  {
   "cell_type": "code",
   "execution_count": 5,
   "metadata": {},
   "outputs": [
    {
     "data": {
      "text/plain": [
       "0.46004898227096647"
      ]
     },
     "execution_count": 5,
     "metadata": {},
     "output_type": "execute_result"
    }
   ],
   "source": [
    "p_value"
   ]
  },
  {
   "cell_type": "code",
   "execution_count": 6,
   "metadata": {},
   "outputs": [
    {
     "name": "stdout",
     "output_type": "stream",
     "text": [
      "Cannot reject H0\n"
     ]
    }
   ],
   "source": [
    "α = 0.05\n",
    "if p_value < α:\n",
    "    print('Reject H0')\n",
    "else:\n",
    "    print('Cannot reject H0')"
   ]
  },
  {
   "cell_type": "markdown",
   "metadata": {},
   "source": [
    "### H0: μ $\\geq$ 10 $\\;\\;\\;\\;\\;\\;$ H0: μ $\\leq$ 10  <br>  Ha: μ < 10 $\\;\\;\\;\\;\\;\\;\\;$ Ha: μ > 10"
   ]
  },
  {
   "cell_type": "code",
   "execution_count": 7,
   "metadata": {},
   "outputs": [],
   "source": [
    "# For a one tailed test, you divide the p value by 2\n",
    "p_value_1tailed = p_value/2"
   ]
  },
  {
   "cell_type": "code",
   "execution_count": 8,
   "metadata": {},
   "outputs": [
    {
     "name": "stdout",
     "output_type": "stream",
     "text": [
      "Cannot reject H0\n"
     ]
    }
   ],
   "source": [
    "α = 0.05\n",
    "if p_value_1tailed < α:\n",
    "    print('Reject H0')\n",
    "else:\n",
    "    print('Cannot reject H0')"
   ]
  },
  {
   "cell_type": "markdown",
   "metadata": {},
   "source": [
    "## Testing proportion"
   ]
  },
  {
   "cell_type": "code",
   "execution_count": 9,
   "metadata": {},
   "outputs": [],
   "source": [
    "import numpy as np\n",
    "from statsmodels.stats.proportion import proportions_ztest"
   ]
  },
  {
   "cell_type": "code",
   "execution_count": 10,
   "metadata": {},
   "outputs": [],
   "source": [
    "'''\n",
    "proportions_ztest(count, nobs, value=None, alternative='two-sided')\n",
    "\n",
    "count: number of successes in nobs\n",
    "nobs: number of trials\n",
    "value: hypothesized_proportion (in a one sample test)\n",
    "alternative: alternative hypothesis\n",
    "             = 'smaller' if p < hypothesized_proportion\n",
    "             = 'larger'  if p > hypothesized_proportion\n",
    "             = 'two-sided' if p != hypothesized_proportion\n",
    "             \n",
    "prop_var: By default, the standard error is calculated using the sample proportion and not hypothesised proportion.\n",
    "          This is the classical approach and is not recommended. Hence we have set the value to the hypothesised proprotion = 0.2\n",
    "\n",
    "'''\n",
    "\n",
    "sample_proportion = 0.175\n",
    "sample_size = 400\n",
    "hypothesized_proportion = 0.2"
   ]
  },
  {
   "cell_type": "markdown",
   "metadata": {},
   "source": [
    "https://www.statsmodels.org/stable/generated/statsmodels.stats.proportion.proportions_ztest.html"
   ]
  },
  {
   "cell_type": "code",
   "execution_count": 11,
   "metadata": {},
   "outputs": [],
   "source": [
    "num_successes = sample_proportion*sample_size\n",
    "num_trials = sample_size\n",
    "\n",
    "z_statistic, p_value = proportions_ztest(num_successes, num_trials, value = hypothesized_proportion, alternative = 'two-sided', prop_var = 0.2)"
   ]
  },
  {
   "cell_type": "markdown",
   "metadata": {},
   "source": [
    "### H0: $p$ = 0.2 <br>  Ha: $p$ $\\neq$ 0.2"
   ]
  },
  {
   "cell_type": "code",
   "execution_count": 12,
   "metadata": {},
   "outputs": [
    {
     "name": "stdout",
     "output_type": "stream",
     "text": [
      "Cannot reject H0\n"
     ]
    }
   ],
   "source": [
    "α = 0.05\n",
    "if p_value < α:\n",
    "    print('Reject H0')\n",
    "else:\n",
    "    print('Cannot reject H0')"
   ]
  },
  {
   "cell_type": "markdown",
   "metadata": {},
   "source": [
    "# 2 sample tests"
   ]
  },
  {
   "cell_type": "markdown",
   "metadata": {},
   "source": [
    "## Comparing samples with unknown variances"
   ]
  },
  {
   "cell_type": "markdown",
   "metadata": {},
   "source": [
    "### H0: $μ_{1}$ = $μ_{2}$ <br>  Ha: $μ_{1}$ $\\neq$ $μ_{2}$"
   ]
  },
  {
   "cell_type": "code",
   "execution_count": 13,
   "metadata": {},
   "outputs": [],
   "source": [
    "sample1 = [10.2, 9.7, 10.1, 10.3, 10.1, 9.8, 9.9, 10.4, 10.3, 9.8]\n",
    "sample2 = [10.1, 9.2, 10.3, 11, 10.2, 9.1, 9.2, 10.3, 10.7, 9.3]"
   ]
  },
  {
   "cell_type": "code",
   "execution_count": 14,
   "metadata": {},
   "outputs": [],
   "source": [
    "t_statistic, p_value = stats.ttest_ind(sample1, sample2)"
   ]
  },
  {
   "cell_type": "code",
   "execution_count": 15,
   "metadata": {},
   "outputs": [
    {
     "name": "stdout",
     "output_type": "stream",
     "text": [
      "P value =  0.6099583638259121\n",
      "Cannot reject H0\n"
     ]
    }
   ],
   "source": [
    "α = 0.05\n",
    "if p_value < α:\n",
    "    print('P value = ', p_value)\n",
    "    print('Reject H0')\n",
    "else:\n",
    "    print('P value = ', p_value)\n",
    "    print('Cannot reject H0')"
   ]
  },
  {
   "cell_type": "markdown",
   "metadata": {},
   "source": [
    "## Comparing proportions"
   ]
  },
  {
   "cell_type": "markdown",
   "metadata": {},
   "source": [
    "The proportion of men and woman who selected watching television as their most leisure time have been summarised in the given table.\n",
    "<br>\n",
    "Use α .05 "
   ]
  },
  {
   "cell_type": "markdown",
   "metadata": {},
   "source": [
    "### Solution"
   ]
  },
  {
   "cell_type": "markdown",
   "metadata": {},
   "source": [
    "### H0: $p_{1}$ = $p_{2}$ <br>  Ha: $p_{1}$ $\\neq$ $p_{2}$"
   ]
  },
  {
   "cell_type": "code",
   "execution_count": 16,
   "metadata": {},
   "outputs": [],
   "source": [
    "import numpy as np\n",
    "from statsmodels.stats import proportion"
   ]
  },
  {
   "cell_type": "code",
   "execution_count": 17,
   "metadata": {},
   "outputs": [],
   "source": [
    "successes = np.array([63, 60])\n",
    "sample_sizes = np.array([150, 200])"
   ]
  },
  {
   "cell_type": "code",
   "execution_count": 18,
   "metadata": {},
   "outputs": [],
   "source": [
    "# Testing proportions for two samples\n",
    "z_statistic, p_value = proportion.proportions_ztest(successes, sample_sizes, alternative = 'two-sided')"
   ]
  },
  {
   "cell_type": "code",
   "execution_count": 19,
   "metadata": {},
   "outputs": [
    {
     "data": {
      "text/plain": [
       "2.3270751647490346"
      ]
     },
     "execution_count": 19,
     "metadata": {},
     "output_type": "execute_result"
    }
   ],
   "source": [
    "z_statistic"
   ]
  },
  {
   "cell_type": "code",
   "execution_count": 20,
   "metadata": {},
   "outputs": [
    {
     "name": "stdout",
     "output_type": "stream",
     "text": [
      "P value =  0.019961265070318403\n",
      "Reject H0\n"
     ]
    }
   ],
   "source": [
    "α = 0.05\n",
    "if p_value < α:\n",
    "    print('P value = ', p_value)\n",
    "    print('Reject H0')\n",
    "else:\n",
    "    print('P value = ', p_value)\n",
    "    print('Cannot reject H0')"
   ]
  },
  {
   "cell_type": "markdown",
   "metadata": {},
   "source": [
    "#### Conclusion: The proportions statistically different"
   ]
  },
  {
   "cell_type": "markdown",
   "metadata": {},
   "source": [
    "## Comparing Matched Samples"
   ]
  },
  {
   "cell_type": "markdown",
   "metadata": {},
   "source": [
    "### H0: $μ_{1}$ $\\leq$ $μ_{2}$ <br>  Ha: $μ_{1}$ > $μ_{2}$"
   ]
  },
  {
   "cell_type": "code",
   "execution_count": 21,
   "metadata": {},
   "outputs": [],
   "source": [
    "sample_8hr = [6, 6, 7, 4, 3, 9, 7, 6]\n",
    "sample_5hr = [5, 4, 7, 3, 5, 8, 5, 6]"
   ]
  },
  {
   "cell_type": "code",
   "execution_count": 22,
   "metadata": {},
   "outputs": [],
   "source": [
    "from scipy.stats import ttest_rel"
   ]
  },
  {
   "cell_type": "code",
   "execution_count": 23,
   "metadata": {},
   "outputs": [],
   "source": [
    "test_statistic, p_value = ttest_rel(sample_8hr, sample_5hr)"
   ]
  },
  {
   "cell_type": "code",
   "execution_count": 24,
   "metadata": {},
   "outputs": [
    {
     "name": "stdout",
     "output_type": "stream",
     "text": [
      "Cannot reject H0\n"
     ]
    }
   ],
   "source": [
    "p_value = p_value/2\n",
    "\n",
    "α = 0.05\n",
    "if p_value < α:\n",
    "    print('Reject H0')\n",
    "else:\n",
    "    print('Cannot reject H0')"
   ]
  },
  {
   "cell_type": "code",
   "execution_count": 25,
   "metadata": {},
   "outputs": [
    {
     "data": {
      "text/plain": [
       "0.1084187728094503"
      ]
     },
     "execution_count": 25,
     "metadata": {},
     "output_type": "execute_result"
    }
   ],
   "source": [
    "p_value"
   ]
  },
  {
   "cell_type": "code",
   "execution_count": null,
   "metadata": {},
   "outputs": [],
   "source": []
  }
 ],
 "metadata": {
  "interpreter": {
   "hash": "10edff396593c40be3aeb7d6bbd86a8b05f9c26d9876b1bda72e2e2af55957d9"
  },
  "kernelspec": {
   "display_name": "Python 3.9.7 ('base')",
   "language": "python",
   "name": "python3"
  },
  "language_info": {
   "codemirror_mode": {
    "name": "ipython",
    "version": 3
   },
   "file_extension": ".py",
   "mimetype": "text/x-python",
   "name": "python",
   "nbconvert_exporter": "python",
   "pygments_lexer": "ipython3",
   "version": "3.9.7"
  }
 },
 "nbformat": 4,
 "nbformat_minor": 4
}
