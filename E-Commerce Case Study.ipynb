{
 "cells": [
  {
   "cell_type": "markdown",
   "metadata": {},
   "source": [
    "# Problem Statement"
   ]
  },
  {
   "cell_type": "markdown",
   "metadata": {},
   "source": [
    "Ecommerce company is evaluating the customer experience. So they run a survey among the customers to understand the feedback from the customers. They see that late delivery is one most frequent problem faced by the customer. However, the consumer experience manager says that the late delivery % is similar to industry average. We should do hypothesis test to compare organization with industry average which is 0.06.\n",
    "\n",
    "Establish the fact that organization has a poor record in delivery. Evaluate the current algorithm to estimate delivery. The current algo is simplistic. We decide to build a intelligent system which predict delivery date by taking lot of factor into account. We roll out this algorithm for 10% of customer. Compare complaint % between the two samples "
   ]
  },
  {
   "cell_type": "markdown",
   "metadata": {},
   "source": [
    "# Solution"
   ]
  },
  {
   "cell_type": "code",
   "execution_count": 1,
   "metadata": {},
   "outputs": [],
   "source": [
    "import numpy as np\n",
    "import pandas as pd\n",
    "import matplotlib.pyplot as plt\n",
    "import seaborn as sns\n",
    "from statsmodels.stats.weightstats import ttest_ind, ztest\n",
    "from statsmodels.stats.proportion import proportions_ztest\n",
    "from statsmodels.stats.power import tt_ind_solve_power\n",
    "import scipy.stats as sc\n",
    "from scipy.stats import binom, norm, ttest_rel\n",
    "from IPython.display import Image"
   ]
  },
  {
   "cell_type": "code",
   "execution_count": 2,
   "metadata": {},
   "outputs": [],
   "source": [
    "orders = pd.read_csv('ecommerce_orders.csv')"
   ]
  },
  {
   "cell_type": "code",
   "execution_count": 3,
   "metadata": {},
   "outputs": [],
   "source": [
    "# Reading reviews data\n",
    "reviews = pd.read_csv('ecommerce_reviews.csv')"
   ]
  },
  {
   "cell_type": "code",
   "execution_count": 4,
   "metadata": {},
   "outputs": [],
   "source": [
    "# Merging the orders dataset with the reviews dataset\n",
    "order_reviews = pd.merge(orders, reviews, how='left', left_on='order_id', right_on= 'order_id')"
   ]
  },
  {
   "cell_type": "code",
   "execution_count": 5,
   "metadata": {},
   "outputs": [],
   "source": [
    "# Removing any missing values in the order_ids and delivery dates\n",
    "order_reviews = order_reviews.dropna(subset = ['order_id', 'order_delivered_customer_date'])"
   ]
  },
  {
   "cell_type": "code",
   "execution_count": 6,
   "metadata": {},
   "outputs": [],
   "source": [
    "# Sorting the value by the date\n",
    "order_reviews = order_reviews.sort_values(by='order_delivered_customer_date').reset_index(drop=True)"
   ]
  },
  {
   "cell_type": "code",
   "execution_count": 7,
   "metadata": {},
   "outputs": [],
   "source": [
    "# Removing duplicate values from the order_reviews dataset\n",
    "order_reviews = order_reviews.drop_duplicates(subset='order_id')"
   ]
  },
  {
   "cell_type": "code",
   "execution_count": 8,
   "metadata": {},
   "outputs": [],
   "source": [
    "# Dropping columns irrelevant to the problem statement\n",
    "order_reviews = order_reviews.drop(columns = ['customer_id', 'order_status', 'order_purchase_timestamp', 'order_delivered_carrier_date'])"
   ]
  },
  {
   "cell_type": "markdown",
   "metadata": {},
   "source": [
    "### 1. Establish the fact that organization has a poor record in delivery. "
   ]
  },
  {
   "cell_type": "code",
   "execution_count": 9,
   "metadata": {},
   "outputs": [
    {
     "data": {
      "text/plain": [
       "(-10, 60)"
      ]
     },
     "execution_count": 9,
     "metadata": {},
     "output_type": "execute_result"
    },
    {
     "data": {
      "image/png": "[encoded data removed]",
      "text/plain": [
       "<Figure size 720x288 with 1 Axes>"
      ]
     },
     "metadata": {
      "needs_background": "light"
     },
     "output_type": "display_data"
    }
   ],
   "source": [
    "# Comparing the actual delivery time against the estimated delivery time\n",
    "\n",
    "# Converting all the dates to pandas datetime format\n",
    "order_reviews['order_approved_at'] = pd.to_datetime(order_reviews['order_approved_at'])\n",
    "order_reviews['order_estimated_delivery_date'] = pd.to_datetime(order_reviews['order_estimated_delivery_date'])\n",
    "order_reviews['order_delivered_customer_date'] = pd.to_datetime(order_reviews['order_delivered_customer_date'])\n",
    "\n",
    "# Calculate actual delivery time from customer buying the product to receiveing the product\n",
    "order_reviews['actual_delivery_time'] = (order_reviews['order_delivered_customer_date'] - order_reviews['order_approved_at']).dt.total_seconds() / 86400\n",
    "\n",
    "# Calculating the estimated delivery time\n",
    "order_reviews['estimated_delivery_time'] = (order_reviews['order_estimated_delivery_date'] - order_reviews['order_approved_at']).dt.total_seconds() / 86400\n",
    "\n",
    "# Comparing the actual delivery time and estimated delivery time\n",
    "plt.figure(figsize=(10,4))\n",
    "plt.title(\"Delivery time in days\")\n",
    "\n",
    "ax1 = sns.kdeplot(order_reviews['actual_delivery_time'].dropna(), color=\"red\", label='Actual Delivery time')\n",
    "ax2 = sns.kdeplot(order_reviews['estimated_delivery_time'].dropna(), color=\"blue\", label='Estimated delivery time')\n",
    "\n",
    "plt.xlim(-10, 60)"
   ]
  },
  {
   "cell_type": "markdown",
   "metadata": {},
   "source": [
    "### Comparing the means between **'actual_delivery_time'** and **'estimated_delivery_time'**"
   ]
  },
  {
   "cell_type": "code",
   "execution_count": 10,
   "metadata": {},
   "outputs": [],
   "source": [
    "# Testing for a significant difference between the estimated delivery time and actual delivery time\n",
    "sample1 = np.array(order_reviews['actual_delivery_time'].dropna())\n",
    "sample2 = np.array(order_reviews['estimated_delivery_time'].dropna())"
   ]
  },
  {
   "cell_type": "code",
   "execution_count": 11,
   "metadata": {},
   "outputs": [
    {
     "data": {
      "image/png": "[encoded data removed]",
      "text/plain": [
       "<IPython.core.display.Image object>"
      ]
     },
     "execution_count": 11,
     "metadata": {},
     "output_type": "execute_result"
    }
   ],
   "source": [
    "Image('Hypothesis_comparing_means.png')"
   ]
  },
  {
   "cell_type": "markdown",
   "metadata": {},
   "source": [
    "### Testing matched samples t tests"
   ]
  },
  {
   "cell_type": "code",
   "execution_count": 12,
   "metadata": {},
   "outputs": [],
   "source": [
    "# Matched sample test\n",
    "t_statistic, p_value = ttest_rel(sample1, sample2)"
   ]
  },
  {
   "cell_type": "code",
   "execution_count": 13,
   "metadata": {},
   "outputs": [
    {
     "name": "stdout",
     "output_type": "stream",
     "text": [
      "P value =  1.1313533589878193e-09\n",
      "Reject H0\n",
      "There is a significant difference between the estimated delivery time and actual delivery time\n"
     ]
    }
   ],
   "source": [
    "α = 0.05\n",
    "\n",
    "# Checking p value against α\n",
    "if p_value < α:\n",
    "    print('P value = ', p_value)\n",
    "    print('Reject H0')\n",
    "    print('There is a significant difference between the estimated delivery time and actual delivery time')\n",
    "else:\n",
    "    print('P value = ', p_value)\n",
    "    print('Cannot Reject H0')"
   ]
  },
  {
   "cell_type": "code",
   "execution_count": 14,
   "metadata": {},
   "outputs": [
    {
     "data": {
      "text/plain": [
       "Late Delivery             3985\n",
       "Great Customer Service    3170\n",
       "Great product             3035\n",
       "Bad Quality               2996\n",
       "Wrong Product             2975\n",
       "Product was broken        2964\n",
       "Bad Customer Service      2946\n",
       "Not User Friendly         2841\n",
       "Name: review_title, dtype: int64"
      ]
     },
     "execution_count": 14,
     "metadata": {},
     "output_type": "execute_result"
    }
   ],
   "source": [
    "# Frequency of reviews given by customers\n",
    "order_reviews.review_title.value_counts()"
   ]
  },
  {
   "cell_type": "code",
   "execution_count": 15,
   "metadata": {},
   "outputs": [],
   "source": [
    "# Weekly Analysis of the reviews\n",
    "\n",
    "# Week number when the customer recieved the delivery\n",
    "order_reviews['delivery_week'] = order_reviews['order_delivered_customer_date'].dt.week.astype(str)\n",
    "\n",
    "# Year number when the customer recieved the delivery\n",
    "order_reviews['delivery_year'] = order_reviews['order_delivered_customer_date'].dt.year.astype(str)\n",
    "\n",
    "# Creating a unique identifier for the week and the year of the date when the order was delivered\n",
    "order_reviews['delivery_year_week'] = order_reviews['delivery_year'] + order_reviews['delivery_week']"
   ]
  },
  {
   "cell_type": "code",
   "execution_count": 16,
   "metadata": {},
   "outputs": [],
   "source": [
    "pd.set_option('display.max_rows', order_reviews.shape[0]+1)"
   ]
  },
  {
   "cell_type": "code",
   "execution_count": 17,
   "metadata": {},
   "outputs": [
    {
     "data": {
      "text/plain": [
       "delivery_year_week\n",
       "201710             Late Delivery\n",
       "201711             Late Delivery\n",
       "201712      Bad Customer Service\n",
       "201713             Late Delivery\n",
       "201714               Bad Quality\n",
       "201715             Late Delivery\n",
       "201716             Late Delivery\n",
       "201717             Late Delivery\n",
       "201718             Great product\n",
       "201719        Product was broken\n",
       "201720             Late Delivery\n",
       "201721      Bad Customer Service\n",
       "201722             Late Delivery\n",
       "201723             Late Delivery\n",
       "201724             Late Delivery\n",
       "201725             Great product\n",
       "201726               Bad Quality\n",
       "201727             Late Delivery\n",
       "201728             Late Delivery\n",
       "201729             Late Delivery\n",
       "201730        Product was broken\n",
       "201731             Late Delivery\n",
       "201732    Great Customer Service\n",
       "201733             Late Delivery\n",
       "201734             Late Delivery\n",
       "201735             Late Delivery\n",
       "201736             Late Delivery\n",
       "201737    Great Customer Service\n",
       "201738             Late Delivery\n",
       "201739             Late Delivery\n",
       "201740             Late Delivery\n",
       "201741             Late Delivery\n",
       "201742             Late Delivery\n",
       "201743             Late Delivery\n",
       "201744             Late Delivery\n",
       "201745    Great Customer Service\n",
       "201746             Late Delivery\n",
       "201747             Wrong Product\n",
       "201748             Late Delivery\n",
       "201749             Late Delivery\n",
       "20175                Bad Quality\n",
       "201750             Late Delivery\n",
       "201751             Late Delivery\n",
       "201752             Late Delivery\n",
       "20176       Bad Customer Service\n",
       "20177         Product was broken\n",
       "20178       Bad Customer Service\n",
       "20179              Wrong Product\n",
       "20181              Late Delivery\n",
       "201810             Late Delivery\n",
       "201811             Late Delivery\n",
       "201812             Late Delivery\n",
       "201813    Great Customer Service\n",
       "201814             Late Delivery\n",
       "20182              Late Delivery\n",
       "20183       Bad Customer Service\n",
       "20184                Bad Quality\n",
       "20185              Late Delivery\n",
       "20186              Late Delivery\n",
       "20187              Late Delivery\n",
       "20188              Late Delivery\n",
       "20189              Late Delivery\n",
       "Name: review_title, dtype: object"
      ]
     },
     "execution_count": 17,
     "metadata": {},
     "output_type": "execute_result"
    }
   ],
   "source": [
    "# Most common review on a weekly basis\n",
    "order_reviews.groupby(['delivery_year_week'])['review_title'].apply(lambda x:x.value_counts().index[0])"
   ]
  },
  {
   "cell_type": "code",
   "execution_count": 18,
   "metadata": {},
   "outputs": [],
   "source": [
    "# Using this function, you can adjust the number of rows you want to be displayed while printing the dataframe\n",
    "pd.set_option('display.max_rows', 10)"
   ]
  },
  {
   "cell_type": "markdown",
   "metadata": {},
   "source": [
    "### Testing proportion of Late Delivery reviews"
   ]
  },
  {
   "cell_type": "code",
   "execution_count": 19,
   "metadata": {},
   "outputs": [],
   "source": [
    "# Count of Late Delivery orders per week\n",
    "num_late_delivery_weekly = order_reviews.groupby(order_reviews.delivery_year_week).review_title.apply(lambda x: (x=='Late Delivery').sum())"
   ]
  },
  {
   "cell_type": "code",
   "execution_count": 20,
   "metadata": {},
   "outputs": [],
   "source": [
    "# Count of orders per week\n",
    "num_orders_weekly = order_reviews.groupby(order_reviews.delivery_year_week).order_id.count()"
   ]
  },
  {
   "cell_type": "code",
   "execution_count": 21,
   "metadata": {},
   "outputs": [],
   "source": [
    "proportion_late_deliveries = num_late_delivery_weekly/ num_orders_weekly"
   ]
  },
  {
   "cell_type": "markdown",
   "metadata": {},
   "source": [
    "### 2) Conduct a hypothesis test to compare the organization late delivery % with the industry average which is 6%"
   ]
  },
  {
   "cell_type": "code",
   "execution_count": 22,
   "metadata": {},
   "outputs": [
    {
     "data": {
      "image/png": "[encoded data removed]",
      "text/plain": [
       "<IPython.core.display.Image object>"
      ]
     },
     "execution_count": 22,
     "metadata": {},
     "output_type": "execute_result"
    }
   ],
   "source": [
    "Image('Hypothesis_Testing_proportion_.png')"
   ]
  },
  {
   "cell_type": "code",
   "execution_count": 23,
   "metadata": {},
   "outputs": [],
   "source": [
    "successes = np.sum(num_late_delivery_weekly)\n",
    "sample_size = np.sum(num_orders_weekly)"
   ]
  },
  {
   "cell_type": "code",
   "execution_count": 24,
   "metadata": {},
   "outputs": [],
   "source": [
    "z_statistic, p_value = proportions_ztest(successes, sample_size, value = 0.06, alternative = 'larger')"
   ]
  },
  {
   "cell_type": "markdown",
   "metadata": {},
   "source": [
    "#### **Note:** <br>\n",
    "\n",
    "**Ha: p < 0.06 (1 tailed test)**<br>\n",
    "alternative = 'smaller'\n",
    "\n",
    "**Ha: p > 0.06 (1 tailed test)**<br>\n",
    "alternative = 'larger'\n",
    "\n",
    "**Ha: p != 0.06 (2 tailed test)**<br>\n",
    "alternative = 'two-sided'"
   ]
  },
  {
   "cell_type": "code",
   "execution_count": 25,
   "metadata": {},
   "outputs": [
    {
     "data": {
      "text/plain": [
       "5.179425725521796e-08"
      ]
     },
     "execution_count": 25,
     "metadata": {},
     "output_type": "execute_result"
    }
   ],
   "source": [
    "p_value"
   ]
  },
  {
   "cell_type": "code",
   "execution_count": 26,
   "metadata": {},
   "outputs": [
    {
     "name": "stdout",
     "output_type": "stream",
     "text": [
      "P value =  5.179425725521796e-08\n",
      "Reject H0\n",
      "The proportion of Late Delivery complaints is > 0.06\n"
     ]
    }
   ],
   "source": [
    "α = 0.05\n",
    "\n",
    "# Checking p value against α\n",
    "if p_value < α:\n",
    "    print('P value = ', p_value)\n",
    "    print('Reject H0')\n",
    "    print('The proportion of Late Delivery complaints is > 0.06')\n",
    "else:\n",
    "    print('P value = ', p_value)\n",
    "    print('Cannot Reject H0')\n",
    "    print('The proportion of Late Delivery complaints is <= 0.06')"
   ]
  },
  {
   "cell_type": "markdown",
   "metadata": {},
   "source": [
    "### 3) A/B Testing\n",
    "\n",
    "#### Compare late delivery complaint % before and after the algorithm was rolled out."
   ]
  },
  {
   "cell_type": "code",
   "execution_count": 27,
   "metadata": {},
   "outputs": [],
   "source": [
    "ab_testing_orders = pd.read_csv('ab_testing_orders.csv')\n",
    "ab_testing_reviews = pd.read_csv('ab_testing_reviews.csv')"
   ]
  },
  {
   "cell_type": "code",
   "execution_count": 28,
   "metadata": {},
   "outputs": [],
   "source": [
    "# Merging the orders dataset with the reviews dataset\n",
    "ab_testing_orders_reviews = pd.merge(ab_testing_orders, ab_testing_reviews, how='left', left_on='order_id', right_on= 'order_id')"
   ]
  },
  {
   "cell_type": "code",
   "execution_count": 29,
   "metadata": {},
   "outputs": [
    {
     "data": {
      "text/plain": [
       "Treatment    18235\n",
       "Control      15000\n",
       "Name: group, dtype: int64"
      ]
     },
     "execution_count": 29,
     "metadata": {},
     "output_type": "execute_result"
    }
   ],
   "source": [
    "# Number of customers in the Treatment group and Control group\n",
    "ab_testing_orders_reviews.group.value_counts()"
   ]
  },
  {
   "cell_type": "code",
   "execution_count": 30,
   "metadata": {},
   "outputs": [],
   "source": [
    "# Creating a new column, Delivery_Complaint\n",
    "# Delivery_Complaint = True if review_title = Late Delivery, else False\n",
    "ab_testing_orders_reviews['Delivery_Complaint'] = ab_testing_orders_reviews['review_title'].apply(lambda x: x == 'Late Delivery')"
   ]
  },
  {
   "cell_type": "code",
   "execution_count": 31,
   "metadata": {},
   "outputs": [
    {
     "data": {
      "text/plain": [
       "False    31267\n",
       "True      1968\n",
       "Name: Delivery_Complaint, dtype: int64"
      ]
     },
     "execution_count": 31,
     "metadata": {},
     "output_type": "execute_result"
    }
   ],
   "source": [
    "# 'True' is the number of orders in the dataset having delivery complaints\n",
    "# 'False' is the number of orders in the dataset not having a delivery complaint\n",
    "ab_testing_orders_reviews['Delivery_Complaint'].value_counts()"
   ]
  },
  {
   "cell_type": "code",
   "execution_count": 32,
   "metadata": {},
   "outputs": [],
   "source": [
    "# Number of Delivery complains in the Control and Treatment Groups\n",
    "successes = ab_testing_orders_reviews.groupby('group')['Delivery_Complaint'].sum()"
   ]
  },
  {
   "cell_type": "code",
   "execution_count": 33,
   "metadata": {},
   "outputs": [
    {
     "data": {
      "text/plain": [
       "group\n",
       "Control      1013.0\n",
       "Treatment     955.0\n",
       "Name: Delivery_Complaint, dtype: float64"
      ]
     },
     "execution_count": 33,
     "metadata": {},
     "output_type": "execute_result"
    }
   ],
   "source": [
    "successes"
   ]
  },
  {
   "cell_type": "code",
   "execution_count": 34,
   "metadata": {},
   "outputs": [],
   "source": [
    "# Sample Size taken for the Control and Treatment Groups\n",
    "# This counts the number of True values in the Control and Treatment groups. Remember, True means review_title = Late Delivery\n",
    "sample_size = ab_testing_orders_reviews.groupby('group')['order_id'].count()"
   ]
  },
  {
   "cell_type": "code",
   "execution_count": 35,
   "metadata": {},
   "outputs": [],
   "source": [
    "proportions = successes/ sample_size"
   ]
  },
  {
   "cell_type": "markdown",
   "metadata": {},
   "source": [
    "### With Library"
   ]
  },
  {
   "cell_type": "markdown",
   "metadata": {},
   "source": [
    "### **Hypothesis**"
   ]
  },
  {
   "cell_type": "code",
   "execution_count": 36,
   "metadata": {},
   "outputs": [
    {
     "data": {
      "image/png": "[encoded data removed]",
      "text/plain": [
       "<IPython.core.display.Image object>"
      ]
     },
     "execution_count": 36,
     "metadata": {},
     "output_type": "execute_result"
    }
   ],
   "source": [
    "Image('proportions_test.png')"
   ]
  },
  {
   "cell_type": "code",
   "execution_count": 37,
   "metadata": {},
   "outputs": [],
   "source": [
    "z_statistic, p_value = proportions_ztest(successes, sample_size, alternative = 'two-sided')"
   ]
  },
  {
   "cell_type": "code",
   "execution_count": 38,
   "metadata": {},
   "outputs": [
    {
     "name": "stdout",
     "output_type": "stream",
     "text": [
      "z_statistic =  5.827515932146575\n",
      "p_value =  5.6258480616739625e-09\n"
     ]
    }
   ],
   "source": [
    "print('z_statistic = ', z_statistic)\n",
    "print('p_value = ', p_value)"
   ]
  },
  {
   "cell_type": "markdown",
   "metadata": {},
   "source": [
    "Depending on the level of significance (α), I can decide to accept or reject the alternate hypothesis\n",
    "\n",
    "If α = 0.05\n",
    "\n",
    "I reject H0, since: p value < α <br>\n",
    "     &emsp; &emsp; &emsp; &emsp; &emsp; &emsp;            5.62585e-09 < 0.05\n",
    "                    \n",
    "**Conclusion:**<br>\n",
    "There is a significant difference between the two samples"
   ]
  },
  {
   "cell_type": "markdown",
   "metadata": {},
   "source": [
    "### Without library"
   ]
  },
  {
   "cell_type": "code",
   "execution_count": 39,
   "metadata": {},
   "outputs": [
    {
     "data": {
      "image/png": "[encoded data removed]",
      "text/plain": [
       "<IPython.core.display.Image object>"
      ]
     },
     "execution_count": 39,
     "metadata": {},
     "output_type": "execute_result"
    }
   ],
   "source": [
    "Image('proportions_test.png')"
   ]
  },
  {
   "cell_type": "code",
   "execution_count": 40,
   "metadata": {},
   "outputs": [
    {
     "data": {
      "image/png": "[encoded data removed]",
      "text/plain": [
       "<IPython.core.display.Image object>"
      ]
     },
     "execution_count": 40,
     "metadata": {},
     "output_type": "execute_result"
    }
   ],
   "source": [
    "Image('p_.png')"
   ]
  },
  {
   "cell_type": "code",
   "execution_count": 41,
   "metadata": {},
   "outputs": [],
   "source": [
    "p = sum(successes)/sum(sample_size)"
   ]
  },
  {
   "cell_type": "code",
   "execution_count": 42,
   "metadata": {},
   "outputs": [
    {
     "data": {
      "image/png": "[encoded data removed]",
      "text/plain": [
       "<IPython.core.display.Image object>"
      ]
     },
     "execution_count": 42,
     "metadata": {},
     "output_type": "execute_result"
    }
   ],
   "source": [
    "Image('sample_std_.png')"
   ]
  },
  {
   "cell_type": "code",
   "execution_count": 43,
   "metadata": {},
   "outputs": [],
   "source": [
    "sp = np.sqrt(p*(1-p)*sum(1/sample_size))"
   ]
  },
  {
   "cell_type": "code",
   "execution_count": 44,
   "metadata": {},
   "outputs": [
    {
     "data": {
      "image/png": "[encoded data removed]",
      "text/plain": [
       "<IPython.core.display.Image object>"
      ]
     },
     "execution_count": 44,
     "metadata": {},
     "output_type": "execute_result"
    }
   ],
   "source": [
    "Image('z_statistic_.png')"
   ]
  },
  {
   "cell_type": "code",
   "execution_count": 45,
   "metadata": {},
   "outputs": [],
   "source": [
    "p1 = proportions[0]\n",
    "p2 = proportions[1]"
   ]
  },
  {
   "cell_type": "code",
   "execution_count": 46,
   "metadata": {},
   "outputs": [],
   "source": [
    "z = (p1 - p2)/sp"
   ]
  },
  {
   "cell_type": "code",
   "execution_count": 47,
   "metadata": {},
   "outputs": [],
   "source": [
    "p_value = 2*(1 - sc.norm.cdf(z))"
   ]
  },
  {
   "cell_type": "code",
   "execution_count": 48,
   "metadata": {},
   "outputs": [],
   "source": [
    "α = 0.05"
   ]
  },
  {
   "cell_type": "code",
   "execution_count": 49,
   "metadata": {},
   "outputs": [],
   "source": [
    "z_alpha = sc.norm.ppf(α/2)"
   ]
  },
  {
   "cell_type": "code",
   "execution_count": 50,
   "metadata": {},
   "outputs": [
    {
     "name": "stdout",
     "output_type": "stream",
     "text": [
      "Reject H0\n",
      "The proportions are not equal\n"
     ]
    }
   ],
   "source": [
    "# Reject H0 if z score <= z_alpha or z score >= z_alpha\n",
    "\n",
    "if z<= z_alpha or z>= -z_alpha:\n",
    "    print('Reject H0')\n",
    "    print('The proportions are not equal')\n",
    "\n",
    "else:\n",
    "    print('Cannot Reject H0')"
   ]
  },
  {
   "cell_type": "code",
   "execution_count": 51,
   "metadata": {},
   "outputs": [
    {
     "data": {
      "image/png": "[encoded data removed]",
      "text/plain": [
       "<IPython.core.display.Image object>"
      ]
     },
     "execution_count": 51,
     "metadata": {},
     "output_type": "execute_result"
    }
   ],
   "source": [
    "Image('Distribution_p1p2.png')"
   ]
  },
  {
   "cell_type": "markdown",
   "metadata": {},
   "source": [
    "#### Comparing the actual delivery time against the estimated delivery time for the treatment dataset"
   ]
  },
  {
   "cell_type": "code",
   "execution_count": 52,
   "metadata": {},
   "outputs": [],
   "source": [
    "order_reviews_treatment_group = ab_testing_orders_reviews[ab_testing_orders_reviews['group'] == 'Treatment']"
   ]
  },
  {
   "cell_type": "code",
   "execution_count": 53,
   "metadata": {},
   "outputs": [
    {
     "name": "stderr",
     "output_type": "stream",
     "text": [
      "c:\\users\\prateek.dasgupta\\appdata\\local\\programs\\python\\python37\\lib\\site-packages\\ipykernel_launcher.py:2: SettingWithCopyWarning: \n",
      "A value is trying to be set on a copy of a slice from a DataFrame.\n",
      "Try using .loc[row_indexer,col_indexer] = value instead\n",
      "\n",
      "See the caveats in the documentation: http://pandas.pydata.org/pandas-docs/stable/user_guide/indexing.html#returning-a-view-versus-a-copy\n",
      "  \n",
      "c:\\users\\prateek.dasgupta\\appdata\\local\\programs\\python\\python37\\lib\\site-packages\\ipykernel_launcher.py:3: SettingWithCopyWarning: \n",
      "A value is trying to be set on a copy of a slice from a DataFrame.\n",
      "Try using .loc[row_indexer,col_indexer] = value instead\n",
      "\n",
      "See the caveats in the documentation: http://pandas.pydata.org/pandas-docs/stable/user_guide/indexing.html#returning-a-view-versus-a-copy\n",
      "  This is separate from the ipykernel package so we can avoid doing imports until\n",
      "c:\\users\\prateek.dasgupta\\appdata\\local\\programs\\python\\python37\\lib\\site-packages\\ipykernel_launcher.py:4: SettingWithCopyWarning: \n",
      "A value is trying to be set on a copy of a slice from a DataFrame.\n",
      "Try using .loc[row_indexer,col_indexer] = value instead\n",
      "\n",
      "See the caveats in the documentation: http://pandas.pydata.org/pandas-docs/stable/user_guide/indexing.html#returning-a-view-versus-a-copy\n",
      "  after removing the cwd from sys.path.\n",
      "c:\\users\\prateek.dasgupta\\appdata\\local\\programs\\python\\python37\\lib\\site-packages\\ipykernel_launcher.py:7: SettingWithCopyWarning: \n",
      "A value is trying to be set on a copy of a slice from a DataFrame.\n",
      "Try using .loc[row_indexer,col_indexer] = value instead\n",
      "\n",
      "See the caveats in the documentation: http://pandas.pydata.org/pandas-docs/stable/user_guide/indexing.html#returning-a-view-versus-a-copy\n",
      "  import sys\n",
      "c:\\users\\prateek.dasgupta\\appdata\\local\\programs\\python\\python37\\lib\\site-packages\\ipykernel_launcher.py:10: SettingWithCopyWarning: \n",
      "A value is trying to be set on a copy of a slice from a DataFrame.\n",
      "Try using .loc[row_indexer,col_indexer] = value instead\n",
      "\n",
      "See the caveats in the documentation: http://pandas.pydata.org/pandas-docs/stable/user_guide/indexing.html#returning-a-view-versus-a-copy\n",
      "  # Remove the CWD from sys.path while we load stuff.\n"
     ]
    },
    {
     "data": {
      "text/plain": [
       "(-10, 60)"
      ]
     },
     "execution_count": 53,
     "metadata": {},
     "output_type": "execute_result"
    },
    {
     "data": {
      "image/png": "[encoded data removed]",
      "text/plain": [
       "<Figure size 720x288 with 1 Axes>"
      ]
     },
     "metadata": {
      "needs_background": "light"
     },
     "output_type": "display_data"
    }
   ],
   "source": [
    "# Converting all the dates to pandas datetime format\n",
    "order_reviews_treatment_group['order_approved_at'] = pd.to_datetime(order_reviews_treatment_group['order_approved_at'])\n",
    "order_reviews_treatment_group['order_estimated_delivery_date'] = pd.to_datetime(order_reviews_treatment_group['order_estimated_delivery_date'])\n",
    "order_reviews_treatment_group['order_delivered_customer_date'] = pd.to_datetime(order_reviews_treatment_group['order_delivered_customer_date'])\n",
    "\n",
    "# Calculate actual delivery time from customer buying the product to receiveing the product\n",
    "order_reviews_treatment_group['actual_delivery_time'] = (order_reviews_treatment_group['order_delivered_customer_date'] - order_reviews_treatment_group['order_approved_at']).dt.total_seconds() / 86400\n",
    "\n",
    "# Calculating the estimated delivery time\n",
    "order_reviews_treatment_group['estimated_delivery_time'] = (order_reviews_treatment_group['order_estimated_delivery_date'] - order_reviews_treatment_group['order_approved_at']).dt.total_seconds() / 86400\n",
    "\n",
    "# Comparing the actual delivery time and estimated delivery time\n",
    "plt.figure(figsize=(10,4))\n",
    "plt.title(\"Delivery time in days\")\n",
    "\n",
    "ax1 = sns.kdeplot(order_reviews_treatment_group['actual_delivery_time'].dropna(), color=\"red\", label='Actual Delivery time')\n",
    "ax2 = sns.kdeplot(order_reviews_treatment_group['estimated_delivery_time'].dropna(), color=\"blue\", label='Estimated delivery time')\n",
    "\n",
    "plt.xlim(-10, 60)"
   ]
  },
  {
   "cell_type": "code",
   "execution_count": 54,
   "metadata": {},
   "outputs": [
    {
     "data": {
      "text/plain": [
       "0        99.102951\n",
       "3        91.046262\n",
       "5        92.478322\n",
       "7        68.161111\n",
       "10       65.975278\n",
       "           ...    \n",
       "33222    13.864167\n",
       "33223     4.864132\n",
       "33224     4.645590\n",
       "33231     4.475498\n",
       "33232     5.395058\n",
       "Name: estimated_delivery_time, Length: 18235, dtype: float64"
      ]
     },
     "execution_count": 54,
     "metadata": {},
     "output_type": "execute_result"
    }
   ],
   "source": [
    "order_reviews_treatment_group['estimated_delivery_time']"
   ]
  },
  {
   "cell_type": "code",
   "execution_count": 55,
   "metadata": {},
   "outputs": [],
   "source": [
    "# Testing for a significant difference between the estimated delivery time and actual delivery time\n",
    "sample_estimated_delivery_time = np.array(order_reviews_treatment_group['actual_delivery_time'])\n",
    "sample_actual_delivery_time = np.array(order_reviews_treatment_group['estimated_delivery_time'])"
   ]
  },
  {
   "cell_type": "code",
   "execution_count": 56,
   "metadata": {},
   "outputs": [
    {
     "data": {
      "image/png": "[encoded data removed]",
      "text/plain": [
       "<IPython.core.display.Image object>"
      ]
     },
     "execution_count": 56,
     "metadata": {},
     "output_type": "execute_result"
    }
   ],
   "source": [
    "Image('Hypothesis_comparing_means.png')"
   ]
  },
  {
   "cell_type": "code",
   "execution_count": 57,
   "metadata": {},
   "outputs": [],
   "source": [
    "# Matched sample test\n",
    "t_statistic, p_value = ttest_rel(sample_estimated_delivery_time, sample_actual_delivery_time)"
   ]
  },
  {
   "cell_type": "code",
   "execution_count": 58,
   "metadata": {},
   "outputs": [
    {
     "name": "stdout",
     "output_type": "stream",
     "text": [
      "P value =  0.21684841987770798\n",
      "Cannot Reject H0\n",
      "Populations means are equal\n"
     ]
    }
   ],
   "source": [
    "α = 0.05\n",
    "\n",
    "# Checking p value against α\n",
    "if p_value < α:\n",
    "    print('P value = ', p_value)\n",
    "    print('Reject H0')\n",
    "    print('Populations means are not equal')\n",
    "else:\n",
    "    print('P value = ', p_value)\n",
    "    print('Cannot Reject H0')"
   ]
  }
 ],
 "metadata": {
  "kernelspec": {
   "display_name": "Python 3",
   "language": "python",
   "name": "python3"
  },
  "language_info": {
   "codemirror_mode": {
    "name": "ipython",
    "version": 3
   },
   "file_extension": ".py",
   "mimetype": "text/x-python",
   "name": "python",
   "nbconvert_exporter": "python",
   "pygments_lexer": "ipython3",
   "version": "3.7.6"
  }
 },
 "nbformat": 4,
 "nbformat_minor": 4
}
